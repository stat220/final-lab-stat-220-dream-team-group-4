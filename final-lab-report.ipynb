{
 "cells": [
  {
   "cell_type": "markdown",
   "source": [
    "[![Review Assignment Due Date](https://classroom.github.com/assets/deadline-readme-button-22041afd0340ce965d47ae6ef1cefeee28c7c493a6346c4f15d667ab976d596c.svg)](https://classroom.github.com/a/21RyuT3T)\n",
    "\n",
    "# Stat 220 Final Lab\n",
    "\n",
    "## Project Description\n",
    "\n",
    "**Project Description**: You are hired as data scientists by Mashable, an online news platform that generates buzz\n",
    "through shares of its posts. Your task is to build a model to predict the number of shares a news article will receive\n",
    "based on its characteristics.\n",
    "\n",
    "**Data**: The data comes from Mashable.com, hosted on the UC Irvine Machine Learning\n",
    "repository: https://archive.ics.uci.edu/ml/datasets/Online+News+Popularity. You can download the dataset from there or\n",
    "at https://richardson.byu.edu/220/OnlineNewsPopularity.csv. There are 61 variables in total. A description of the\n",
    "variables is available at https://richardson.byu.edu/220/ONPvariables.txt. The target variable is the number of shares a\n",
    "news article receives, located as the last variable in the dataset.\n",
    "\n",
    "**Deliverables**: Your work will culminate in two key deliverables:\n",
    "\n",
    "1. A script or notebook containing all analyses and modeling steps.\n",
    "2. A technical report for Mashable, written according to the instructions below.\n",
    "\n",
    "## Project Details\n",
    "\n",
    "### Exploratory Data Analysis (EDA)\n",
    "\n",
    "1. Plot the target variable. Determine if the target variable seems appropriate or if any transformations are needed.\n",
    "2. Build a linear regression model without higher-order terms and identify the most significant predictors.\n",
    "3. Build a regression tree to identify important predictors.\n",
    "4. Select several significant features from steps 2 and 3. Create visualizations or tables to explore the relationships between these features and the target variable.\n",
    "5. Write an EDA section in your technical report. Report the results of the initial models and include figures or tables that show the target variable and its relationship with potentially significant predictors.\n",
    "6. Use appropriate methods to remove insignificant variables from the model.\n",
    "\n",
    "**Linear Regression Modeling**: Build and tune a linear regression model with high predictive power, explaining to Mashable which features most influence the number of shares.\n",
    "\n",
    "1. Split the data into training and testing sets. Use the training set for model fitting and the testing set to check for overfitting and predictive performance.\n",
    "2. Explore transformations of the target and other variables.\n",
    "3. Explore higher-order terms.\n",
    "4. Reduce the model using the following methods:\n",
    "   * Stepwise model evaluation methods to remove insignificant variables.\n",
    "   * LASSO regression to fit the full model and remove insignificant variables. Tune the model to find the best `α`.\n",
    "5. Write a section in your technical report that reports the out-of-sample performance of the models. Discuss the most significant predictors and evaluate the model's usefulness for predicting future shares.\n",
    "\n",
    "**Regression Tree Modeling**: Build and tune a regression tree model.\n",
    "\n",
    "1. Use the same training and testing sets as above.\n",
    "2. Use cost-complexity pruning and cross-validation to find a model that fits well on out-of-sample data.\n",
    "3. Fit a random forest regression model, using cost-complexity pruning for the individual trees.\n",
    "4. Write a section in your technical report that reports the out-of-sample performance of the models. Discuss the model’s usefulness for predicting future shares.\n",
    "\n",
    "**Conclusion**: Compare each model’s predictive accuracy on the test set. Choose the best-performing model as the final predictive model. Write a concluding section in your technical report that addresses Mashable's business concerns and presents your final model along with your confidence in its predictions."
   ],
   "metadata": {
    "collapsed": false
   },
   "id": "144b71dbe2b5ac21"
  },
  {
   "cell_type": "code",
   "outputs": [],
   "source": [],
   "metadata": {
    "collapsed": false,
    "ExecuteTime": {
     "end_time": "2024-12-09T04:58:00.444880Z",
     "start_time": "2024-12-09T04:58:00.436501Z"
    }
   },
   "id": "97d58d9ce35c40d8",
   "execution_count": 0
  }
 ],
 "metadata": {
  "kernelspec": {
   "display_name": "Python 3",
   "language": "python",
   "name": "python3"
  },
  "language_info": {
   "codemirror_mode": {
    "name": "ipython",
    "version": 2
   },
   "file_extension": ".py",
   "mimetype": "text/x-python",
   "name": "python",
   "nbconvert_exporter": "python",
   "pygments_lexer": "ipython2",
   "version": "2.7.6"
  }
 },
 "nbformat": 4,
 "nbformat_minor": 5
}
