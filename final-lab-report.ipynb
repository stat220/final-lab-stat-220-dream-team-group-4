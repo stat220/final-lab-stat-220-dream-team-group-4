{
 "cells": [
  {
   "cell_type": "markdown",
   "source": [
    "[![Review Assignment Due Date](https://classroom.github.com/assets/deadline-readme-button-22041afd0340ce965d47ae6ef1cefeee28c7c493a6346c4f15d667ab976d596c.svg)](https://classroom.github.com/a/21RyuT3T)\n",
    "[![Open Lab in Colab](https://colab.research.google.com/assets/colab-badge.svg)](https://drive.google.com/file/d/1ctGCAyrTb2-6oiEuri2F_toW87FZunKP/view?usp=sharing)\n",
    "\n",
    "# Stat 220 Final Lab Instructions\n",
    "\n",
    "## Project Description\n",
    "\n",
    "**Project Description**: You are hired as data scientists by Mashable, an online news platform that generates buzz through shares of its posts. Your task is to build a model to predict the number of shares a news article will receive based on its characteristics.\n",
    "\n",
    "**Data**: The data comes from Mashable.com, hosted on the UC Irvine Machine Learning repository: https://archive.ics.uci.edu/ml/datasets/Online+News+Popularity. You can download the dataset from there or at https://richardson.byu.edu/220/OnlineNewsPopularity.csv. There are 61 variables in total. A description of the variables is available at https://richardson.byu.edu/220/ONPvariables.txt. The target variable is the number of shares a news article receives, located as the last variable in the dataset.\n",
    "\n",
    "**Deliverables**: Your work will culminate in two key deliverables:\n",
    "\n",
    "1. A script or notebook containing all analyses and modeling steps.\n",
    "2. A technical report for Mashable, written according to the instructions below.\n",
    "\n",
    "## Project Details\n",
    "\n",
    "### Exploratory Data Analysis (EDA)\n",
    "\n",
    "1. Plot the target variable. Determine if the target variable seems appropriate or if any transformations are needed.\n",
    "2. Build a linear regression model without higher-order terms and identify the most significant predictors.\n",
    "3. Build a regression tree to identify important predictors.\n",
    "4. Select several significant features from steps 2 and 3. Create visualizations or tables to explore the relationships between these features and the target variable.\n",
    "5. Write an EDA section in your technical report. Report the results of the initial models and include figures or tables that show the target variable and its relationship with potentially significant predictors.\n",
    "6. Use appropriate methods to remove insignificant variables from the model.\n",
    "\n",
    "**Linear Regression Modeling**: Build and tune a linear regression model with high predictive power, explaining to Mashable which features most influence the number of shares.\n",
    "\n",
    "1. Split the data into training and testing sets. Use the training set for model fitting and the testing set to check for overfitting and predictive performance.\n",
    "2. Explore transformations of the target and other variables.\n",
    "3. Explore higher-order terms.\n",
    "4. Reduce the model using the following methods:\n",
    "   * Stepwise model evaluation methods to remove insignificant variables.\n",
    "   * LASSO regression to fit the full model and remove insignificant variables. Tune the model to find the best `α`.\n",
    "5. Write a section in your technical report that reports the out-of-sample performance of the models. Discuss the most significant predictors and evaluate the model's usefulness for predicting future shares.\n",
    "\n",
    "**Regression Tree Modeling**: Build and tune a regression tree model.\n",
    "\n",
    "1. Use the same training and testing sets as above.\n",
    "2. Use cost-complexity pruning and cross-validation to find a model that fits well on out-of-sample data.\n",
    "3. Fit a random forest regression model, using cost-complexity pruning for the individual trees.\n",
    "4. Write a section in your technical report that reports the out-of-sample performance of the models. Discuss the model’s usefulness for predicting future shares.\n",
    "\n",
    "**Conclusion**: Compare each model’s predictive accuracy on the test set. Choose the best-performing model as the final predictive model. Write a concluding section in your technical report that addresses Mashable's business concerns and presents your final model along with your confidence in its predictions."
   ],
   "metadata": {
    "collapsed": false
   },
   "id": "144b71dbe2b5ac21"
  },
  {
   "cell_type": "code",
   "outputs": [],
   "source": [
    "import pandas as pd"
   ],
   "metadata": {
    "collapsed": false,
    "ExecuteTime": {
     "end_time": "2024-12-09T18:10:19.580320Z",
     "start_time": "2024-12-09T18:10:19.558707Z"
    }
   },
   "id": "97d58d9ce35c40d8",
   "execution_count": 5
  },
  {
   "cell_type": "markdown",
   "source": [
    "***Data***: _The data comes from Mashable.com, hosted on the UC Irvine Machine Learning repository: https://archive.ics.uci.edu/ml/datasets/Online+News+Popularity. You can download the dataset from there orat https://richardson.byu.edu/220/OnlineNewsPopularity.csv. There are 61 variables in total. A description of the variables is available at https://richardson.byu.edu/220/ONPvariables.txt. The target variable is the number of shares a news article receives, located as the last variable in the dataset._\n",
    "\n",
    "***Deliverables***: _Your work will culminate in two key deliverables:_\n",
    "\n",
    "1. _A script or notebook containing all analyses and modeling steps._\n",
    "2. _A technical report for Mashable, written according to the instructions below._"
   ],
   "metadata": {
    "collapsed": false
   },
   "id": "34f2da79a825e473"
  },
  {
   "cell_type": "code",
   "outputs": [
    {
     "data": {
      "text/plain": "                                                 url   timedelta  \\\n0  http://mashable.com/2013/01/07/amazon-instant-...       731.0   \n1  http://mashable.com/2013/01/07/ap-samsung-spon...       731.0   \n2  http://mashable.com/2013/01/07/apple-40-billio...       731.0   \n3  http://mashable.com/2013/01/07/astronaut-notre...       731.0   \n4   http://mashable.com/2013/01/07/att-u-verse-apps/       731.0   \n\n    n_tokens_title   n_tokens_content   n_unique_tokens   n_non_stop_words  \\\n0             12.0              219.0          0.663594                1.0   \n1              9.0              255.0          0.604743                1.0   \n2              9.0              211.0          0.575130                1.0   \n3              9.0              531.0          0.503788                1.0   \n4             13.0             1072.0          0.415646                1.0   \n\n    n_non_stop_unique_tokens   num_hrefs   num_self_hrefs   num_imgs  ...  \\\n0                   0.815385         4.0              2.0        1.0  ...   \n1                   0.791946         3.0              1.0        1.0  ...   \n2                   0.663866         3.0              1.0        1.0  ...   \n3                   0.665635         9.0              0.0        1.0  ...   \n4                   0.540890        19.0             19.0       20.0  ...   \n\n    min_positive_polarity   max_positive_polarity   avg_negative_polarity  \\\n0                0.100000                     0.7               -0.350000   \n1                0.033333                     0.7               -0.118750   \n2                0.100000                     1.0               -0.466667   \n3                0.136364                     0.8               -0.369697   \n4                0.033333                     1.0               -0.220192   \n\n    min_negative_polarity   max_negative_polarity   title_subjectivity  \\\n0                  -0.600               -0.200000             0.500000   \n1                  -0.125               -0.100000             0.000000   \n2                  -0.800               -0.133333             0.000000   \n3                  -0.600               -0.166667             0.000000   \n4                  -0.500               -0.050000             0.454545   \n\n    title_sentiment_polarity   abs_title_subjectivity  \\\n0                  -0.187500                 0.000000   \n1                   0.000000                 0.500000   \n2                   0.000000                 0.500000   \n3                   0.000000                 0.500000   \n4                   0.136364                 0.045455   \n\n    abs_title_sentiment_polarity   shares  \n0                       0.187500      593  \n1                       0.000000      711  \n2                       0.000000     1500  \n3                       0.000000     1200  \n4                       0.136364      505  \n\n[5 rows x 61 columns]",
      "text/html": "<div>\n<style scoped>\n    .dataframe tbody tr th:only-of-type {\n        vertical-align: middle;\n    }\n\n    .dataframe tbody tr th {\n        vertical-align: top;\n    }\n\n    .dataframe thead th {\n        text-align: right;\n    }\n</style>\n<table border=\"1\" class=\"dataframe\">\n  <thead>\n    <tr style=\"text-align: right;\">\n      <th></th>\n      <th>url</th>\n      <th>timedelta</th>\n      <th>n_tokens_title</th>\n      <th>n_tokens_content</th>\n      <th>n_unique_tokens</th>\n      <th>n_non_stop_words</th>\n      <th>n_non_stop_unique_tokens</th>\n      <th>num_hrefs</th>\n      <th>num_self_hrefs</th>\n      <th>num_imgs</th>\n      <th>...</th>\n      <th>min_positive_polarity</th>\n      <th>max_positive_polarity</th>\n      <th>avg_negative_polarity</th>\n      <th>min_negative_polarity</th>\n      <th>max_negative_polarity</th>\n      <th>title_subjectivity</th>\n      <th>title_sentiment_polarity</th>\n      <th>abs_title_subjectivity</th>\n      <th>abs_title_sentiment_polarity</th>\n      <th>shares</th>\n    </tr>\n  </thead>\n  <tbody>\n    <tr>\n      <th>0</th>\n      <td>http://mashable.com/2013/01/07/amazon-instant-...</td>\n      <td>731.0</td>\n      <td>12.0</td>\n      <td>219.0</td>\n      <td>0.663594</td>\n      <td>1.0</td>\n      <td>0.815385</td>\n      <td>4.0</td>\n      <td>2.0</td>\n      <td>1.0</td>\n      <td>...</td>\n      <td>0.100000</td>\n      <td>0.7</td>\n      <td>-0.350000</td>\n      <td>-0.600</td>\n      <td>-0.200000</td>\n      <td>0.500000</td>\n      <td>-0.187500</td>\n      <td>0.000000</td>\n      <td>0.187500</td>\n      <td>593</td>\n    </tr>\n    <tr>\n      <th>1</th>\n      <td>http://mashable.com/2013/01/07/ap-samsung-spon...</td>\n      <td>731.0</td>\n      <td>9.0</td>\n      <td>255.0</td>\n      <td>0.604743</td>\n      <td>1.0</td>\n      <td>0.791946</td>\n      <td>3.0</td>\n      <td>1.0</td>\n      <td>1.0</td>\n      <td>...</td>\n      <td>0.033333</td>\n      <td>0.7</td>\n      <td>-0.118750</td>\n      <td>-0.125</td>\n      <td>-0.100000</td>\n      <td>0.000000</td>\n      <td>0.000000</td>\n      <td>0.500000</td>\n      <td>0.000000</td>\n      <td>711</td>\n    </tr>\n    <tr>\n      <th>2</th>\n      <td>http://mashable.com/2013/01/07/apple-40-billio...</td>\n      <td>731.0</td>\n      <td>9.0</td>\n      <td>211.0</td>\n      <td>0.575130</td>\n      <td>1.0</td>\n      <td>0.663866</td>\n      <td>3.0</td>\n      <td>1.0</td>\n      <td>1.0</td>\n      <td>...</td>\n      <td>0.100000</td>\n      <td>1.0</td>\n      <td>-0.466667</td>\n      <td>-0.800</td>\n      <td>-0.133333</td>\n      <td>0.000000</td>\n      <td>0.000000</td>\n      <td>0.500000</td>\n      <td>0.000000</td>\n      <td>1500</td>\n    </tr>\n    <tr>\n      <th>3</th>\n      <td>http://mashable.com/2013/01/07/astronaut-notre...</td>\n      <td>731.0</td>\n      <td>9.0</td>\n      <td>531.0</td>\n      <td>0.503788</td>\n      <td>1.0</td>\n      <td>0.665635</td>\n      <td>9.0</td>\n      <td>0.0</td>\n      <td>1.0</td>\n      <td>...</td>\n      <td>0.136364</td>\n      <td>0.8</td>\n      <td>-0.369697</td>\n      <td>-0.600</td>\n      <td>-0.166667</td>\n      <td>0.000000</td>\n      <td>0.000000</td>\n      <td>0.500000</td>\n      <td>0.000000</td>\n      <td>1200</td>\n    </tr>\n    <tr>\n      <th>4</th>\n      <td>http://mashable.com/2013/01/07/att-u-verse-apps/</td>\n      <td>731.0</td>\n      <td>13.0</td>\n      <td>1072.0</td>\n      <td>0.415646</td>\n      <td>1.0</td>\n      <td>0.540890</td>\n      <td>19.0</td>\n      <td>19.0</td>\n      <td>20.0</td>\n      <td>...</td>\n      <td>0.033333</td>\n      <td>1.0</td>\n      <td>-0.220192</td>\n      <td>-0.500</td>\n      <td>-0.050000</td>\n      <td>0.454545</td>\n      <td>0.136364</td>\n      <td>0.045455</td>\n      <td>0.136364</td>\n      <td>505</td>\n    </tr>\n  </tbody>\n</table>\n<p>5 rows × 61 columns</p>\n</div>"
     },
     "execution_count": 6,
     "metadata": {},
     "output_type": "execute_result"
    }
   ],
   "source": [
    "news = pd.read_csv('https://richardson.byu.edu/220/OnlineNewsPopularity.csv')\n",
    "news.head()"
   ],
   "metadata": {
    "collapsed": false,
    "ExecuteTime": {
     "end_time": "2024-12-09T18:10:21.911051Z",
     "start_time": "2024-12-09T18:10:19.838598Z"
    }
   },
   "id": "70754112cd4a6bb9",
   "execution_count": 6
  },
  {
   "cell_type": "code",
   "outputs": [
    {
     "name": "stdout",
     "output_type": "stream",
     "text": [
      "<class 'pandas.core.frame.DataFrame'>\n",
      "RangeIndex: 39644 entries, 0 to 39643\n",
      "Data columns (total 61 columns):\n",
      " #   Column                          Non-Null Count  Dtype  \n",
      "---  ------                          --------------  -----  \n",
      " 0   url                             39644 non-null  object \n",
      " 1    timedelta                      39644 non-null  float64\n",
      " 2    n_tokens_title                 39644 non-null  float64\n",
      " 3    n_tokens_content               39644 non-null  float64\n",
      " 4    n_unique_tokens                39644 non-null  float64\n",
      " 5    n_non_stop_words               39644 non-null  float64\n",
      " 6    n_non_stop_unique_tokens       39644 non-null  float64\n",
      " 7    num_hrefs                      39644 non-null  float64\n",
      " 8    num_self_hrefs                 39644 non-null  float64\n",
      " 9    num_imgs                       39644 non-null  float64\n",
      " 10   num_videos                     39644 non-null  float64\n",
      " 11   average_token_length           39644 non-null  float64\n",
      " 12   num_keywords                   39644 non-null  float64\n",
      " 13   data_channel_is_lifestyle      39644 non-null  float64\n",
      " 14   data_channel_is_entertainment  39644 non-null  float64\n",
      " 15   data_channel_is_bus            39644 non-null  float64\n",
      " 16   data_channel_is_socmed         39644 non-null  float64\n",
      " 17   data_channel_is_tech           39644 non-null  float64\n",
      " 18   data_channel_is_world          39644 non-null  float64\n",
      " 19   kw_min_min                     39644 non-null  float64\n",
      " 20   kw_max_min                     39644 non-null  float64\n",
      " 21   kw_avg_min                     39644 non-null  float64\n",
      " 22   kw_min_max                     39644 non-null  float64\n",
      " 23   kw_max_max                     39644 non-null  float64\n",
      " 24   kw_avg_max                     39644 non-null  float64\n",
      " 25   kw_min_avg                     39644 non-null  float64\n",
      " 26   kw_max_avg                     39644 non-null  float64\n",
      " 27   kw_avg_avg                     39644 non-null  float64\n",
      " 28   self_reference_min_shares      39644 non-null  float64\n",
      " 29   self_reference_max_shares      39644 non-null  float64\n",
      " 30   self_reference_avg_sharess     39644 non-null  float64\n",
      " 31   weekday_is_monday              39644 non-null  float64\n",
      " 32   weekday_is_tuesday             39644 non-null  float64\n",
      " 33   weekday_is_wednesday           39644 non-null  float64\n",
      " 34   weekday_is_thursday            39644 non-null  float64\n",
      " 35   weekday_is_friday              39644 non-null  float64\n",
      " 36   weekday_is_saturday            39644 non-null  float64\n",
      " 37   weekday_is_sunday              39644 non-null  float64\n",
      " 38   is_weekend                     39644 non-null  float64\n",
      " 39   LDA_00                         39644 non-null  float64\n",
      " 40   LDA_01                         39644 non-null  float64\n",
      " 41   LDA_02                         39644 non-null  float64\n",
      " 42   LDA_03                         39644 non-null  float64\n",
      " 43   LDA_04                         39644 non-null  float64\n",
      " 44   global_subjectivity            39644 non-null  float64\n",
      " 45   global_sentiment_polarity      39644 non-null  float64\n",
      " 46   global_rate_positive_words     39644 non-null  float64\n",
      " 47   global_rate_negative_words     39644 non-null  float64\n",
      " 48   rate_positive_words            39644 non-null  float64\n",
      " 49   rate_negative_words            39644 non-null  float64\n",
      " 50   avg_positive_polarity          39644 non-null  float64\n",
      " 51   min_positive_polarity          39644 non-null  float64\n",
      " 52   max_positive_polarity          39644 non-null  float64\n",
      " 53   avg_negative_polarity          39644 non-null  float64\n",
      " 54   min_negative_polarity          39644 non-null  float64\n",
      " 55   max_negative_polarity          39644 non-null  float64\n",
      " 56   title_subjectivity             39644 non-null  float64\n",
      " 57   title_sentiment_polarity       39644 non-null  float64\n",
      " 58   abs_title_subjectivity         39644 non-null  float64\n",
      " 59   abs_title_sentiment_polarity   39644 non-null  float64\n",
      " 60   shares                         39644 non-null  int64  \n",
      "dtypes: float64(59), int64(1), object(1)\n",
      "memory usage: 18.5+ MB\n"
     ]
    }
   ],
   "source": [
    "news.info()"
   ],
   "metadata": {
    "collapsed": false,
    "ExecuteTime": {
     "end_time": "2024-12-09T18:10:21.998108Z",
     "start_time": "2024-12-09T18:10:21.915584Z"
    }
   },
   "id": "c258f1dfd5b1f7c2",
   "execution_count": 7
  },
  {
   "cell_type": "markdown",
   "source": [
    "## Project Details\n",
    "\n",
    "### Exploratory Data Analysis (EDA)\n",
    "\n",
    "1. _Plot the target variable. Determine if the target variable seems appropriate or if any transformations are needed._"
   ],
   "metadata": {
    "collapsed": false
   },
   "id": "bbe687d808de8b08"
  },
  {
   "cell_type": "code",
   "outputs": [],
   "source": [],
   "metadata": {
    "collapsed": false,
    "ExecuteTime": {
     "end_time": "2024-12-09T18:10:22.014239Z",
     "start_time": "2024-12-09T18:10:22.003604Z"
    }
   },
   "id": "99970f6cb3f1b59a",
   "execution_count": 7
  },
  {
   "cell_type": "markdown",
   "source": [
    "2. _Build a linear regression model without higher-order terms and identify the most significant predictors._"
   ],
   "metadata": {
    "collapsed": false
   },
   "id": "fa7c5fcd7c71829f"
  },
  {
   "cell_type": "code",
   "outputs": [],
   "source": [],
   "metadata": {
    "collapsed": false,
    "ExecuteTime": {
     "end_time": "2024-12-09T18:10:22.031430Z",
     "start_time": "2024-12-09T18:10:22.027216Z"
    }
   },
   "id": "ef099a20d71a6f83",
   "execution_count": 7
  },
  {
   "cell_type": "markdown",
   "source": [
    "3. _Build a regression tree to identify important predictors._"
   ],
   "metadata": {
    "collapsed": false
   },
   "id": "e6b176e8f16dfac1"
  },
  {
   "cell_type": "code",
   "outputs": [],
   "source": [],
   "metadata": {
    "collapsed": false,
    "ExecuteTime": {
     "end_time": "2024-12-09T18:10:22.042021Z",
     "start_time": "2024-12-09T18:10:22.035263Z"
    }
   },
   "id": "f5a21c57ffca6ef9",
   "execution_count": 7
  },
  {
   "cell_type": "markdown",
   "source": [
    "4. _Select several significant features from steps 2 and 3. Create visualizations or tables to explore the relationships between these features and the target variable._"
   ],
   "metadata": {
    "collapsed": false
   },
   "id": "7e1717b6cd814020"
  },
  {
   "cell_type": "code",
   "outputs": [],
   "source": [],
   "metadata": {
    "collapsed": false,
    "ExecuteTime": {
     "end_time": "2024-12-09T18:10:22.056138Z",
     "start_time": "2024-12-09T18:10:22.046844Z"
    }
   },
   "id": "585d8007d2570da2",
   "execution_count": 7
  },
  {
   "cell_type": "markdown",
   "source": [
    "5. _Write an EDA section in your technical report. Report the results of the initial models and include figures or tables that show the target variable and its relationship with potentially significant predictors._"
   ],
   "metadata": {
    "collapsed": false
   },
   "id": "a4a9401d087b643e"
  },
  {
   "cell_type": "code",
   "outputs": [],
   "source": [],
   "metadata": {
    "collapsed": false,
    "ExecuteTime": {
     "end_time": "2024-12-09T18:10:22.073785Z",
     "start_time": "2024-12-09T18:10:22.059735Z"
    }
   },
   "id": "72d03aad91cedf42",
   "execution_count": 7
  },
  {
   "cell_type": "markdown",
   "source": [
    "6. _Use appropriate methods to remove insignificant variables from the model._"
   ],
   "metadata": {
    "collapsed": false
   },
   "id": "ad6fb7aafcf9d5c7"
  },
  {
   "cell_type": "markdown",
   "source": [],
   "metadata": {
    "collapsed": false
   },
   "id": "717b9d7f9bbf73fa"
  },
  {
   "cell_type": "code",
   "outputs": [],
   "source": [],
   "metadata": {
    "collapsed": false,
    "ExecuteTime": {
     "end_time": "2024-12-09T18:10:22.088835Z",
     "start_time": "2024-12-09T18:10:22.078458Z"
    }
   },
   "id": "1775e05f7b6c7fad",
   "execution_count": 7
  },
  {
   "cell_type": "markdown",
   "source": [
    "***Linear Regression Modeling***: _Build and tune a linear regression model with high predictive power, explaining to Mashable which features most influence the number of shares._\n",
    "\n",
    "1. _Split the data into training and testing sets. Use the training set for model fitting and the testing set to check for overfitting and predictive performance._"
   ],
   "metadata": {
    "collapsed": false
   },
   "id": "2c28f7f5e987ee4c"
  },
  {
   "cell_type": "code",
   "outputs": [],
   "source": [],
   "metadata": {
    "collapsed": false,
    "ExecuteTime": {
     "end_time": "2024-12-09T18:10:22.102359Z",
     "start_time": "2024-12-09T18:10:22.093155Z"
    }
   },
   "id": "fa85cf2c267be532",
   "execution_count": 7
  },
  {
   "cell_type": "markdown",
   "source": [
    "2. _Explore transformations of the target and other variables._"
   ],
   "metadata": {
    "collapsed": false
   },
   "id": "c1dbc17485f83aa0"
  },
  {
   "cell_type": "code",
   "outputs": [],
   "source": [],
   "metadata": {
    "collapsed": false,
    "ExecuteTime": {
     "end_time": "2024-12-09T18:10:22.122263Z",
     "start_time": "2024-12-09T18:10:22.113634Z"
    }
   },
   "id": "209c5ba6e18977cd",
   "execution_count": 7
  },
  {
   "cell_type": "markdown",
   "source": [
    "3. _Explore higher-order terms._"
   ],
   "metadata": {
    "collapsed": false
   },
   "id": "4bd78e46ad3390b0"
  },
  {
   "cell_type": "code",
   "outputs": [],
   "source": [],
   "metadata": {
    "collapsed": false,
    "ExecuteTime": {
     "end_time": "2024-12-09T18:10:22.144772Z",
     "start_time": "2024-12-09T18:10:22.138479Z"
    }
   },
   "id": "d602c3b57ddbc3a6",
   "execution_count": 7
  },
  {
   "cell_type": "markdown",
   "source": [
    "4. _Reduce the model using the following methods:_\n",
    "   * _Stepwise model evaluation methods to remove insignificant variables._"
   ],
   "metadata": {
    "collapsed": false
   },
   "id": "f2949ff84680778d"
  },
  {
   "cell_type": "code",
   "outputs": [],
   "source": [],
   "metadata": {
    "collapsed": false,
    "ExecuteTime": {
     "end_time": "2024-12-09T18:10:22.160458Z",
     "start_time": "2024-12-09T18:10:22.149799Z"
    }
   },
   "id": "7020fc9c7634239f",
   "execution_count": 7
  },
  {
   "cell_type": "markdown",
   "source": [
    "4. _Reduce the model using the following methods:_\n",
    "   * _LASSO regression to fit the full model and remove insignificant variables. Tune the model to find the best `α`._"
   ],
   "metadata": {
    "collapsed": false
   },
   "id": "59e6d48039a0857c"
  },
  {
   "cell_type": "code",
   "outputs": [],
   "source": [],
   "metadata": {
    "collapsed": false,
    "ExecuteTime": {
     "end_time": "2024-12-09T18:10:22.175579Z",
     "start_time": "2024-12-09T18:10:22.165932Z"
    }
   },
   "id": "cc7947fb301d7d46",
   "execution_count": 7
  },
  {
   "cell_type": "markdown",
   "source": [
    "5. _Write a section in your technical report that reports the out-of-sample performance of the models. Discuss the most significant predictors and evaluate the model's usefulness for predicting future shares._"
   ],
   "metadata": {
    "collapsed": false
   },
   "id": "fea980ac81c4d21f"
  },
  {
   "cell_type": "code",
   "outputs": [],
   "source": [],
   "metadata": {
    "collapsed": false,
    "ExecuteTime": {
     "end_time": "2024-12-09T18:10:22.193297Z",
     "start_time": "2024-12-09T18:10:22.182080Z"
    }
   },
   "id": "342ebda3e9b82a46",
   "execution_count": 7
  },
  {
   "cell_type": "markdown",
   "source": [
    "***Regression Tree Modeling***: _Build and tune a regression tree model._\n",
    "\n",
    "1. _Use the same training and testing sets as above._\n",
    "2. _Use cost-complexity pruning and cross-validation to find a model that fits well on out-of-sample data._"
   ],
   "metadata": {
    "collapsed": false
   },
   "id": "4982364b72674b6e"
  },
  {
   "cell_type": "code",
   "outputs": [],
   "source": [],
   "metadata": {
    "collapsed": false,
    "ExecuteTime": {
     "end_time": "2024-12-09T18:10:22.207482Z",
     "start_time": "2024-12-09T18:10:22.198824Z"
    }
   },
   "id": "9d4beba376c9e777",
   "execution_count": 7
  },
  {
   "cell_type": "markdown",
   "source": [
    "3. _Fit a random forest regression model, using cost-complexity pruning for the individual trees._"
   ],
   "metadata": {
    "collapsed": false
   },
   "id": "4f9f1ccbdb55909a"
  },
  {
   "cell_type": "code",
   "outputs": [],
   "source": [],
   "metadata": {
    "collapsed": false,
    "ExecuteTime": {
     "end_time": "2024-12-09T18:10:22.218885Z",
     "start_time": "2024-12-09T18:10:22.212907Z"
    }
   },
   "id": "ab205c8ceb47ee07",
   "execution_count": 7
  },
  {
   "cell_type": "markdown",
   "source": [
    "4. _Write a section in your technical report that reports the out-of-sample performance of the models. Discuss the model’s usefulness for predicting future shares._"
   ],
   "metadata": {
    "collapsed": false
   },
   "id": "c1bda23f996b4891"
  },
  {
   "cell_type": "code",
   "outputs": [],
   "source": [],
   "metadata": {
    "collapsed": false,
    "ExecuteTime": {
     "end_time": "2024-12-09T18:10:22.230294Z",
     "start_time": "2024-12-09T18:10:22.224332Z"
    }
   },
   "id": "35ae2c5d20be3f1d",
   "execution_count": 7
  },
  {
   "cell_type": "markdown",
   "source": [
    "***Conclusion***: _Compare each model’s predictive accuracy on the test set. Choose the best-performing model as the final predictive model. Write a concluding section in your technical report that addresses Mashable's business concerns and presents your final model along with your confidence in its predictions._"
   ],
   "metadata": {
    "collapsed": false
   },
   "id": "f00390cf639a0572"
  },
  {
   "cell_type": "code",
   "outputs": [],
   "source": [],
   "metadata": {
    "collapsed": false,
    "ExecuteTime": {
     "end_time": "2024-12-09T18:10:22.239859Z",
     "start_time": "2024-12-09T18:10:22.235156Z"
    }
   },
   "id": "bdb8abf7fc8ee15a",
   "execution_count": 7
  }
 ],
 "metadata": {
  "kernelspec": {
   "name": "python310",
   "language": "python",
   "display_name": "python310"
  },
  "language_info": {
   "codemirror_mode": {
    "name": "ipython",
    "version": 2
   },
   "file_extension": ".py",
   "mimetype": "text/x-python",
   "name": "python",
   "nbconvert_exporter": "python",
   "pygments_lexer": "ipython2",
   "version": "2.7.6"
  }
 },
 "nbformat": 4,
 "nbformat_minor": 5
}
